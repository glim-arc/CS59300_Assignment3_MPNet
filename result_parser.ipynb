{
 "cells": [
  {
   "cell_type": "code",
   "execution_count": 28,
   "id": "e81046c6",
   "metadata": {},
   "outputs": [
    {
     "name": "stdout",
     "output_type": "stream",
     "text": [
      "[0.47, 0.59, 0.61, 0.58, 0.56, 0.57, 0.56, 0.57, 0.61, 0.59, 0.58, 0.58, 0.58, 0.58, 0.58, 0.59, 0.59, 0.58, 0.58, 0.58, 0.58, 0.58, 0.59, 0.6, 0.6, 0.6, 0.6, 0.61, 0.6, 0.6, 0.62, 0.61, 0.61, 0.62, 0.62, 0.62, 0.61, 0.62, 0.58, 0.6, 0.63, 0.66, 0.68, 0.68, 0.67, 0.69, 0.72, 0.7, 0.69, 0.68, 0.69, 0.69, 0.69, 0.68, 0.67, 0.67, 0.67, 0.67, 0.67, 0.67, 0.66, 0.67, 0.66, 0.66, 0.66, 0.66, 0.66, 0.66, 0.71, 0.75, 0.71, 0.68, 0.64, 0.69, 0.67, 0.69, 0.7, 0.67, 0.66, 0.66, 0.65, 0.67, 0.66, 0.65, 0.67, 0.66, 0.66, 0.68, 0.67, 0.66, 0.66, 0.66, 0.65, 0.65, 0.65, 0.65, 0.65, 0.65, 0.65, 0.65, 0.66, 0.67, 0.67, 0.67, 0.66, 0.67, 0.66, 0.66, 0.65, 0.65, 13.13]\n",
      "\n",
      "\n",
      " **Entire env: success rate=0.97, runtime (min/avg/max/stdev) = 0.00/0.75/13.02/1.11s\n"
     ]
    }
   ],
   "source": [
    "f = open(\"result.txt\", 'r')\n",
    "rate = []\n",
    "mins = []\n",
    "maxs = []\n",
    "avg = []\n",
    "stdev = []\n",
    "\n",
    "while True:\n",
    "    line1 = f.readline()\n",
    "    line2 = f.readline()\n",
    "    if not line1: break\n",
    "    if not line2: break\n",
    "\n",
    "    \"INFO:root:cumulative: success rate=0.99, runtime (min/avg/max/stdev) = 0.00/0.47/4.94/0.74s\"\n",
    "\n",
    "    rateidx = line2.find(\"rate=\") + 5\n",
    "    minidx = line2.find(\"stdev) = \") + 9\n",
    "    \n",
    "    currate = line2[rateidx:rateidx+4]\n",
    "    \n",
    "    curlist = []\n",
    "    curidx = minidx\n",
    "    previdx = minidx\n",
    "    \n",
    "    for i in range(4):\n",
    "        while line2[curidx] != '/' and line2[curidx] != 's':\n",
    "            curidx += 1\n",
    "\n",
    "        var = line2[previdx:curidx]\n",
    "        curlist.append(var)\n",
    "        curidx += 1\n",
    "        previdx = curidx\n",
    "    \n",
    "    rate.append(float(currate))\n",
    "    mins.append(float(curlist[0]))\n",
    "    avg.append(float(curlist[1]))\n",
    "    maxs.append(float(curlist[2]))\n",
    "    stdev.append(float(curlist[3]))\n",
    "    \n",
    "print(avg)\n",
    "\n",
    "rate = sum(rate)/len(rate)\n",
    "mins = sum(mins)/len(mins)\n",
    "maxs = sum(maxs)/len(maxs)\n",
    "avg = sum(avg)/len(avg)\n",
    "stdev = sum(stdev)/len(stdev)\n",
    "\n",
    "f = open(\"result.txt\", 'a')\n",
    "output = f'\\n\\n ** Entire env: success rate={rate:.2f}, runtime (min/avg/max/stdev) = {mins:.2f}/{avg:.2f}/{maxs:.2f}/{stdev:.2f}s'\n",
    "f.write(output)\n",
    "f.close()\n",
    "print(output)"
   ]
  },
  {
   "cell_type": "code",
   "execution_count": null,
   "id": "f2167d7f",
   "metadata": {},
   "outputs": [],
   "source": []
  }
 ],
 "metadata": {
  "kernelspec": {
   "display_name": "Python 3.8 (Anaconda 2020.11)",
   "language": "python",
   "name": "anaconda-2020.11-py38"
  },
  "language_info": {
   "codemirror_mode": {
    "name": "ipython",
    "version": 3
   },
   "file_extension": ".py",
   "mimetype": "text/x-python",
   "name": "python",
   "nbconvert_exporter": "python",
   "pygments_lexer": "ipython3",
   "version": "3.8.5"
  }
 },
 "nbformat": 4,
 "nbformat_minor": 5
}
